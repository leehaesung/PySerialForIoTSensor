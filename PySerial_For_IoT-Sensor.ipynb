{
 "cells": [
  {
   "cell_type": "markdown",
   "metadata": {},
   "source": [
    "# PySerial Test For IoT Sensor"
   ]
  },
  {
   "cell_type": "markdown",
   "metadata": {},
   "source": [
    "* How To Install PySerial For Ubuntu\n",
    "\n",
    "    sudo pip install pyserial"
   ]
  },
  {
   "cell_type": "markdown",
   "metadata": {},
   "source": [
    "<img src=\"https://github.com/leehaesung/NodeRED/blob/master/02_CodeFiles/10_ESP8266-01/01_Images/ESP8266_DHT11.jpg?raw=true\">"
   ]
  },
  {
   "cell_type": "markdown",
   "metadata": {},
   "source": [
    "<img src=\"https://github.com/leehaesung/NodeRED/blob/master/02_CodeFiles/10_ESP8266-01/01_Images/ESP8266_DHT11_Basic.jpg?raw=true\">"
   ]
  },
  {
   "cell_type": "markdown",
   "metadata": {},
   "source": [
    "### Reading Serial Data from ESP8266"
   ]
  },
  {
   "cell_type": "code",
   "execution_count": 6,
   "metadata": {
    "scrolled": true
   },
   "outputs": [
    {
     "name": "stdout",
     "output_type": "stream",
     "text": [
      "{\"sensor\":\"esp8266-01\",\"temperature\":27,\"humidity\":40}\n",
      "{\"sensor\":\"esp8266-01\",\"temperature\":27,\"humidity\":40}\n",
      "{\"sensor\":\"esp8266-01\",\"temperature\":27,\"humidity\":40}\n",
      "{\"sensor\":\"esp8266-01\",\"temperature\":27,\"humidity\":40}\n",
      "{\"sensor\":\"esp8266-01\",\"temperature\":27,\"humidity\":40}\n",
      "{\"sensor\":\"esp8266-01\",\"temperature\":27,\"humidity\":38}\n"
     ]
    }
   ],
   "source": [
    "import serial\n",
    "\n",
    "for x in range(15):\n",
    "    ser = serial.Serial('/dev/ttyUSB0', 115200, timeout=1)\n",
    "    jsonData = ser.read(500)\n",
    "    \n",
    "    if \"\" != jsonData:\n",
    "        print jsonData"
   ]
  },
  {
   "cell_type": "markdown",
   "metadata": {},
   "source": [
    "### Sorting Sensor Data From Json"
   ]
  },
  {
   "cell_type": "code",
   "execution_count": 7,
   "metadata": {
    "scrolled": false
   },
   "outputs": [
    {
     "name": "stdout",
     "output_type": "stream",
     "text": [
      "- Json Data : {\"sensor\":\"esp8266-01\",\"temperature\":27,\"humidity\":38}\n",
      "- Device : esp8266-01\n",
      "- Temperature : 27 °C\n",
      "- Humidity : 38 %\n"
     ]
    }
   ],
   "source": [
    "import json\n",
    "\n",
    "print \"- Json Data : \" + jsonData\n",
    "Data = json.loads(jsonData)\n",
    "Device = str(Data['sensor'])\n",
    "print \"- Device : \" + Device\n",
    "temperature = str(Data['temperature'])\n",
    "print \"- Temperature : \" + temperature + \" °C\"\n",
    "humidity = str(Data['humidity'])\n",
    "print \"- Humidity : \" + humidity + \" %\""
   ]
  },
  {
   "cell_type": "markdown",
   "metadata": {},
   "source": [
    "##  Reference"
   ]
  },
  {
   "cell_type": "markdown",
   "metadata": {},
   "source": [
    "Official pySerial web:  https://pythonhosted.org/pyserial/shortintro.html"
   ]
  }
 ],
 "metadata": {
  "kernelspec": {
   "display_name": "Python 2",
   "language": "python",
   "name": "python2"
  },
  "language_info": {
   "codemirror_mode": {
    "name": "ipython",
    "version": 2
   },
   "file_extension": ".py",
   "mimetype": "text/x-python",
   "name": "python",
   "nbconvert_exporter": "python",
   "pygments_lexer": "ipython2",
   "version": "2.7.6"
  }
 },
 "nbformat": 4,
 "nbformat_minor": 2
}
