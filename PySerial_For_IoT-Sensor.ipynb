{
 "cells": [
  {
   "cell_type": "markdown",
   "metadata": {},
   "source": [
    "# PySerial Test For IoT Sensor"
   ]
  },
  {
   "cell_type": "markdown",
   "metadata": {},
   "source": [
    "* How To Install PySerial For Ubuntu\n",
    "\n",
    "    sudo pip install pyserial"
   ]
  },
  {
   "cell_type": "markdown",
   "metadata": {},
   "source": [
    "<img src=\"https://github.com/leehaesung/NodeRED/blob/master/02_CodeFiles/10_ESP8266-01/01_Images/ESP8266_DHT11.jpg?raw=true\">"
   ]
  },
  {
   "cell_type": "markdown",
   "metadata": {},
   "source": [
    "<img src=\"https://github.com/leehaesung/NodeRED/blob/master/02_CodeFiles/10_ESP8266-01/01_Images/ESP8266_DHT11_Basic.jpg?raw=true\">"
   ]
  },
  {
   "cell_type": "code",
   "execution_count": 1,
   "metadata": {
    "scrolled": false
   },
   "outputs": [
    {
     "name": "stdout",
     "output_type": "stream",
     "text": [
      "{\"sensor\":\"esp8266-01\",\"temperature\":24,\"humidity\":33}\n",
      "{\"sensor\":\"esp8266-01\",\"temperature\":25,\"humidity\":34}\n",
      "{\"sensor\":\"esp8266-01\",\"temperature\":25,\"humidity\":27}\n",
      "{\"sensor\":\"esp8266-01\",\"temperature\":25,\"humidity\":27}\n",
      "{\"sensor\":\"esp8266-01\",\"temperature\":25,\"humidity\":27}\n",
      "{\"sensor\":\"esp8266-01\",\"temperature\":25,\"humidity\":27}\n"
     ]
    }
   ],
   "source": [
    "import serial\n",
    "\n",
    "for x in range(15):\n",
    "    ser = serial.Serial('/dev/ttyUSB0', 115200, timeout=1)\n",
    "    s = ser.read(500)\n",
    "\n",
    "    \n",
    "    if \"\" != s:\n",
    "        print s   "
   ]
  },
  {
   "cell_type": "markdown",
   "metadata": {},
   "source": [
    "##  Reference"
   ]
  },
  {
   "cell_type": "markdown",
   "metadata": {},
   "source": [
    "Official pySerial web:  https://pythonhosted.org/pyserial/shortintro.html"
   ]
  },
  {
   "cell_type": "code",
   "execution_count": 18,
   "metadata": {
    "collapsed": true
   },
   "outputs": [],
   "source": [
    "# END"
   ]
  }
 ],
 "metadata": {
  "kernelspec": {
   "display_name": "Python 2",
   "language": "python",
   "name": "python2"
  },
  "language_info": {
   "codemirror_mode": {
    "name": "ipython",
    "version": 2
   },
   "file_extension": ".py",
   "mimetype": "text/x-python",
   "name": "python",
   "nbconvert_exporter": "python",
   "pygments_lexer": "ipython2",
   "version": "2.7.6"
  }
 },
 "nbformat": 4,
 "nbformat_minor": 2
}
