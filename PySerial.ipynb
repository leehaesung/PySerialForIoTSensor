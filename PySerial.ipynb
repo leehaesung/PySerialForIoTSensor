{
 "cells": [
  {
   "cell_type": "code",
   "execution_count": 51,
   "metadata": {
    "scrolled": true
   },
   "outputs": [
    {
     "name": "stdout",
     "output_type": "stream",
     "text": [
      "H\n",
      "umidity: 35.00 %\tTemperature: 25.00 *C 77.00 *F\tHeat index76.04 *F\r\n",
      "Publish message: hello world #86\r\n",
      "\n",
      "\n"
     ]
    }
   ],
   "source": [
    "import serial\n",
    "\n",
    "with serial.Serial('/dev/ttyUSB0', 115200, timeout=1) as ser:\n",
    "    x = ser.read()\n",
    "    s = ser.read(200)\n",
    "    line = ser.readline()\n",
    "    print x\n",
    "    print s\n",
    "    print line"
   ]
  },
  {
   "cell_type": "code",
   "execution_count": 18,
   "metadata": {
    "collapsed": true
   },
   "outputs": [],
   "source": [
    "# END"
   ]
  }
 ],
 "metadata": {
  "kernelspec": {
   "display_name": "Python 2",
   "language": "python",
   "name": "python2"
  },
  "language_info": {
   "codemirror_mode": {
    "name": "ipython",
    "version": 2
   },
   "file_extension": ".py",
   "mimetype": "text/x-python",
   "name": "python",
   "nbconvert_exporter": "python",
   "pygments_lexer": "ipython2",
   "version": "2.7.6"
  }
 },
 "nbformat": 4,
 "nbformat_minor": 2
}
